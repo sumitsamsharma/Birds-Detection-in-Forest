{
  "cells": [
    {
      "cell_type": "markdown",
      "metadata": {
        "id": "CHA2CqvSeu2d"
      },
      "source": [
        ""
      ]
    },
    {
      "cell_type": "markdown",
      "metadata": {
        "id": "SsVFnYyreu2k"
      },
      "source": [
        "#Installing and Loading Dependencies"
      ]
    },
    {
      "cell_type": "code",
      "execution_count": null,
      "metadata": {
        "jupyter": {
          "source_hidden": true
        },
        "tags": [],
        "id": "Wcv1Jk2deu2l",
        "outputId": "7d812497-8a42-4ccb-819a-fc54bee38cc9"
      },
      "outputs": [
        {
          "name": "stdout",
          "output_type": "stream",
          "text": [
            "Collecting tensorflow\n",
            "  Using cached tensorflow-2.8.0-cp310-cp310-win_amd64.whl (438.0 MB)\n",
            "Requirement already satisfied: tensorflow-io in c:\\users\\sharm\\appdata\\local\\programs\\python\\python310\\lib\\site-packages (0.25.0)\n",
            "Requirement already satisfied: matplotlib in c:\\users\\sharm\\appdata\\local\\programs\\python\\python310\\lib\\site-packages (3.5.1)\n",
            "Requirement already satisfied: tensorflow-io-gcs-filesystem>=0.23.1 in c:\\users\\sharm\\appdata\\local\\programs\\python\\python310\\lib\\site-packages (from tensorflow) (0.25.0)\n",
            "Requirement already satisfied: typing-extensions>=3.6.6 in c:\\users\\sharm\\appdata\\local\\programs\\python\\python310\\lib\\site-packages (from tensorflow) (4.1.1)\n",
            "Requirement already satisfied: numpy>=1.20 in c:\\users\\sharm\\appdata\\local\\programs\\python\\python310\\lib\\site-packages (from tensorflow) (1.22.3)\n",
            "Requirement already satisfied: setuptools in c:\\users\\sharm\\appdata\\local\\programs\\python\\python310\\lib\\site-packages (from tensorflow) (58.1.0)\n",
            "Requirement already satisfied: gast>=0.2.1 in c:\\users\\sharm\\appdata\\local\\programs\\python\\python310\\lib\\site-packages (from tensorflow) (0.5.3)\n",
            "Requirement already satisfied: opt-einsum>=2.3.2 in c:\\users\\sharm\\appdata\\local\\programs\\python\\python310\\lib\\site-packages (from tensorflow) (3.3.0)\n",
            "Requirement already satisfied: flatbuffers>=1.12 in c:\\users\\sharm\\appdata\\local\\programs\\python\\python310\\lib\\site-packages (from tensorflow) (2.0)\n",
            "Requirement already satisfied: tf-estimator-nightly==2.8.0.dev2021122109 in c:\\users\\sharm\\appdata\\local\\programs\\python\\python310\\lib\\site-packages (from tensorflow) (2.8.0.dev2021122109)\n",
            "Requirement already satisfied: tensorboard<2.9,>=2.8 in c:\\users\\sharm\\appdata\\local\\programs\\python\\python310\\lib\\site-packages (from tensorflow) (2.8.0)\n",
            "Requirement already satisfied: protobuf>=3.9.2 in c:\\users\\sharm\\appdata\\local\\programs\\python\\python310\\lib\\site-packages (from tensorflow) (3.20.0)\n",
            "Requirement already satisfied: keras-preprocessing>=1.1.1 in c:\\users\\sharm\\appdata\\local\\programs\\python\\python310\\lib\\site-packages (from tensorflow) (1.1.2)\n",
            "Requirement already satisfied: wrapt>=1.11.0 in c:\\users\\sharm\\appdata\\local\\programs\\python\\python310\\lib\\site-packages (from tensorflow) (1.14.0)\n",
            "Requirement already satisfied: termcolor>=1.1.0 in c:\\users\\sharm\\appdata\\local\\programs\\python\\python310\\lib\\site-packages (from tensorflow) (1.1.0)\n",
            "Requirement already satisfied: grpcio<2.0,>=1.24.3 in c:\\users\\sharm\\appdata\\local\\programs\\python\\python310\\lib\\site-packages (from tensorflow) (1.44.0)\n",
            "Requirement already satisfied: six>=1.12.0 in c:\\users\\sharm\\appdata\\local\\programs\\python\\python310\\lib\\site-packages (from tensorflow) (1.16.0)\n",
            "Requirement already satisfied: h5py>=2.9.0 in c:\\users\\sharm\\appdata\\local\\programs\\python\\python310\\lib\\site-packages (from tensorflow) (3.6.0)\n",
            "Requirement already satisfied: google-pasta>=0.1.1 in c:\\users\\sharm\\appdata\\local\\programs\\python\\python310\\lib\\site-packages (from tensorflow) (0.2.0)\n",
            "Requirement already satisfied: absl-py>=0.4.0 in c:\\users\\sharm\\appdata\\local\\programs\\python\\python310\\lib\\site-packages (from tensorflow) (1.0.0)\n",
            "Requirement already satisfied: libclang>=9.0.1 in c:\\users\\sharm\\appdata\\local\\programs\\python\\python310\\lib\\site-packages (from tensorflow) (14.0.1)\n",
            "Requirement already satisfied: astunparse>=1.6.0 in c:\\users\\sharm\\appdata\\local\\programs\\python\\python310\\lib\\site-packages (from tensorflow) (1.6.3)\n",
            "Requirement already satisfied: keras<2.9,>=2.8.0rc0 in c:\\users\\sharm\\appdata\\local\\programs\\python\\python310\\lib\\site-packages (from tensorflow) (2.8.0)\n",
            "Requirement already satisfied: fonttools>=4.22.0 in c:\\users\\sharm\\appdata\\local\\programs\\python\\python310\\lib\\site-packages (from matplotlib) (4.32.0)\n",
            "Requirement already satisfied: pyparsing>=2.2.1 in c:\\users\\sharm\\appdata\\local\\programs\\python\\python310\\lib\\site-packages (from matplotlib) (3.0.8)\n",
            "Requirement already satisfied: python-dateutil>=2.7 in c:\\users\\sharm\\appdata\\local\\programs\\python\\python310\\lib\\site-packages (from matplotlib) (2.8.2)\n",
            "Requirement already satisfied: cycler>=0.10 in c:\\users\\sharm\\appdata\\local\\programs\\python\\python310\\lib\\site-packages (from matplotlib) (0.11.0)\n",
            "Requirement already satisfied: kiwisolver>=1.0.1 in c:\\users\\sharm\\appdata\\local\\programs\\python\\python310\\lib\\site-packages (from matplotlib) (1.4.2)\n",
            "Requirement already satisfied: pillow>=6.2.0 in c:\\users\\sharm\\appdata\\local\\programs\\python\\python310\\lib\\site-packages (from matplotlib) (9.1.0)\n",
            "Requirement already satisfied: packaging>=20.0 in c:\\users\\sharm\\appdata\\local\\programs\\python\\python310\\lib\\site-packages (from matplotlib) (21.3)\n",
            "Requirement already satisfied: wheel<1.0,>=0.23.0 in c:\\users\\sharm\\appdata\\local\\programs\\python\\python310\\lib\\site-packages (from astunparse>=1.6.0->tensorflow) (0.37.1)\n",
            "Requirement already satisfied: werkzeug>=0.11.15 in c:\\users\\sharm\\appdata\\local\\programs\\python\\python310\\lib\\site-packages (from tensorboard<2.9,>=2.8->tensorflow) (2.1.1)\n",
            "Requirement already satisfied: markdown>=2.6.8 in c:\\users\\sharm\\appdata\\local\\programs\\python\\python310\\lib\\site-packages (from tensorboard<2.9,>=2.8->tensorflow) (3.3.6)\n",
            "Requirement already satisfied: google-auth-oauthlib<0.5,>=0.4.1 in c:\\users\\sharm\\appdata\\local\\programs\\python\\python310\\lib\\site-packages (from tensorboard<2.9,>=2.8->tensorflow) (0.4.6)\n",
            "Requirement already satisfied: google-auth<3,>=1.6.3 in c:\\users\\sharm\\appdata\\local\\programs\\python\\python310\\lib\\site-packages (from tensorboard<2.9,>=2.8->tensorflow) (2.6.5)\n",
            "Requirement already satisfied: requests<3,>=2.21.0 in c:\\users\\sharm\\appdata\\local\\programs\\python\\python310\\lib\\site-packages (from tensorboard<2.9,>=2.8->tensorflow) (2.27.1)\n",
            "Requirement already satisfied: tensorboard-data-server<0.7.0,>=0.6.0 in c:\\users\\sharm\\appdata\\local\\programs\\python\\python310\\lib\\site-packages (from tensorboard<2.9,>=2.8->tensorflow) (0.6.1)\n",
            "Requirement already satisfied: tensorboard-plugin-wit>=1.6.0 in c:\\users\\sharm\\appdata\\local\\programs\\python\\python310\\lib\\site-packages (from tensorboard<2.9,>=2.8->tensorflow) (1.8.1)\n",
            "Requirement already satisfied: cachetools<6.0,>=2.0.0 in c:\\users\\sharm\\appdata\\local\\programs\\python\\python310\\lib\\site-packages (from google-auth<3,>=1.6.3->tensorboard<2.9,>=2.8->tensorflow) (5.0.0)\n",
            "Requirement already satisfied: rsa<5,>=3.1.4 in c:\\users\\sharm\\appdata\\local\\programs\\python\\python310\\lib\\site-packages (from google-auth<3,>=1.6.3->tensorboard<2.9,>=2.8->tensorflow) (4.8)\n",
            "Requirement already satisfied: pyasn1-modules>=0.2.1 in c:\\users\\sharm\\appdata\\local\\programs\\python\\python310\\lib\\site-packages (from google-auth<3,>=1.6.3->tensorboard<2.9,>=2.8->tensorflow) (0.2.8)\n",
            "Requirement already satisfied: requests-oauthlib>=0.7.0 in c:\\users\\sharm\\appdata\\local\\programs\\python\\python310\\lib\\site-packages (from google-auth-oauthlib<0.5,>=0.4.1->tensorboard<2.9,>=2.8->tensorflow) (1.3.1)\n",
            "Requirement already satisfied: urllib3<1.27,>=1.21.1 in c:\\users\\sharm\\appdata\\local\\programs\\python\\python310\\lib\\site-packages (from requests<3,>=2.21.0->tensorboard<2.9,>=2.8->tensorflow) (1.26.9)\n",
            "Requirement already satisfied: certifi>=2017.4.17 in c:\\users\\sharm\\appdata\\local\\programs\\python\\python310\\lib\\site-packages (from requests<3,>=2.21.0->tensorboard<2.9,>=2.8->tensorflow) (2021.10.8)\n",
            "Requirement already satisfied: idna<4,>=2.5 in c:\\users\\sharm\\appdata\\local\\programs\\python\\python310\\lib\\site-packages (from requests<3,>=2.21.0->tensorboard<2.9,>=2.8->tensorflow) (3.3)\n",
            "Requirement already satisfied: charset-normalizer~=2.0.0 in c:\\users\\sharm\\appdata\\local\\programs\\python\\python310\\lib\\site-packages (from requests<3,>=2.21.0->tensorboard<2.9,>=2.8->tensorflow) (2.0.12)\n",
            "Requirement already satisfied: pyasn1<0.5.0,>=0.4.6 in c:\\users\\sharm\\appdata\\local\\programs\\python\\python310\\lib\\site-packages (from pyasn1-modules>=0.2.1->google-auth<3,>=1.6.3->tensorboard<2.9,>=2.8->tensorflow) (0.4.8)\n",
            "Requirement already satisfied: oauthlib>=3.0.0 in c:\\users\\sharm\\appdata\\local\\programs\\python\\python310\\lib\\site-packages (from requests-oauthlib>=0.7.0->google-auth-oauthlib<0.5,>=0.4.1->tensorboard<2.9,>=2.8->tensorflow) (3.2.0)\n",
            "Installing collected packages: tensorflow\n",
            "Successfully installed tensorflow-2.8.0\n"
          ]
        }
      ],
      "source": [
        "!pip install tensorflow tensorflow-io matplotlib"
      ]
    },
    {
      "cell_type": "markdown",
      "metadata": {
        "id": "4SFe4C2_eu2m"
      },
      "source": [
        ""
      ]
    },
    {
      "cell_type": "code",
      "execution_count": null,
      "metadata": {
        "jupyter": {
          "source_hidden": true
        },
        "tags": [],
        "id": "SR18PM00eu2m"
      },
      "outputs": [],
      "source": [
        "import os\n",
        "from matplotlib import pyplot as plt\n",
        "import tensorflow as tf \n",
        "\n",
        "#makes it easier to process our audio and to convert them \n",
        "import tensorflow_io as tfio"
      ]
    },
    {
      "cell_type": "markdown",
      "metadata": {
        "id": "VeJhWkPMeu2n"
      },
      "source": [
        "# 2. Specifying paths and reducing size"
      ]
    },
    {
      "cell_type": "markdown",
      "metadata": {
        "id": "tKig0FiFeu2n"
      },
      "source": [
        "## 2.1 Specifying the files path"
      ]
    },
    {
      "cell_type": "code",
      "execution_count": null,
      "metadata": {
        "jupyter": {
          "source_hidden": true
        },
        "tags": [],
        "id": "P-IyoxSSeu2o"
      },
      "outputs": [],
      "source": [
        "CAPUCHIN_FILE = os.path.join('data', 'Parsed_Capuchinbird_Clips', 'XC3776-3.wav')\n",
        "NOT_CAPUCHIN_FILE = os.path.join('data', 'Parsed_Not_Capuchinbird_Clips', 'afternoon-birds-song-in-forest-0.wav')"
      ]
    },
    {
      "cell_type": "markdown",
      "metadata": {
        "id": "LS3tbGn0eu2o"
      },
      "source": [
        "## 2.2 16 Khz conversion for less computataion"
      ]
    },
    {
      "cell_type": "code",
      "execution_count": null,
      "metadata": {
        "jupyter": {
          "source_hidden": true
        },
        "tags": [],
        "id": "Yd6cuHFieu2p"
      },
      "outputs": [],
      "source": [
        "def convert_16khz_single_channel(filepath):\n",
        "    \n",
        "    # Loading the encoded wav file, it returns a string format of our audio file\n",
        "    file_contents = tf.io.read_file(filepath)\n",
        "    # we need to decode our wave of strings\n",
        "    wave, sample_rate = tf.audio.decode_wav(file_contents, desired_channels=1)\n",
        "    # we squeeze the array into an 1 channel or 1 column of values\n",
        "    wave = tf.squeeze(wave, axis=-1)\n",
        "    \n",
        "    #convert it to integer so that we can sample the rate\n",
        "    sample_rate = tf.cast(sample_rate, dtype=tf.int64)\n",
        "    \n",
        "    # Converting 44100Hz to 16000hz, will require less computation\n",
        "    wave = tfio.audio.resample(wave, rate_in=sample_rate, rate_out=16000)\n",
        "    return wave"
      ]
    },
    {
      "cell_type": "markdown",
      "metadata": {
        "id": "pl42vw7seu2p"
      },
      "source": [
        "## 2.3 Plotting Wave of bird sound (converted 16khz) "
      ]
    },
    {
      "cell_type": "code",
      "execution_count": null,
      "metadata": {
        "jupyter": {
          "source_hidden": true
        },
        "tags": [],
        "id": "TXGJBkzTeu2q"
      },
      "outputs": [],
      "source": [
        "bird = convert_16khz_single_channel(CAPUCHIN_FILE)\n",
        "nobird = convert_16khz_single_channel(NOT_CAPUCHIN_FILE)"
      ]
    },
    {
      "cell_type": "code",
      "execution_count": null,
      "metadata": {
        "jupyter": {
          "source_hidden": true
        },
        "tags": [],
        "id": "WlHTk8QGeu2q",
        "outputId": "71ef31bb-e508-4620-813f-20e607807b7d"
      },
      "outputs": [
        {
          "data": {
            "image/png": "[encoded data removed]",
            "text/plain": [
              "<Figure size 432x288 with 1 Axes>"
            ]
          },
          "metadata": {
            "needs_background": "light"
          },
          "output_type": "display_data"
        }
      ],
      "source": [
        "plt.plot(bird)\n",
        "plt.plot(nobird)\n",
        "plt.show()"
      ]
    },
    {
      "cell_type": "markdown",
      "metadata": {
        "id": "t4lpJ8EReu2q"
      },
      "source": [
        "# 3. Preparing the Tensorflow Dataset"
      ]
    },
    {
      "cell_type": "markdown",
      "metadata": {
        "id": "qNYjZvJYeu2q"
      },
      "source": [
        "## 3.1 Defining paths to Bird and Non-Bird sounds "
      ]
    },
    {
      "cell_type": "code",
      "execution_count": null,
      "metadata": {
        "jupyter": {
          "source_hidden": true
        },
        "tags": [],
        "id": "Otd8XBqfeu2q"
      },
      "outputs": [],
      "source": [
        "positive = os.path.join('data', 'Parsed_Capuchinbird_Clips')\n",
        "negative = os.path.join('data', 'Parsed_Not_Capuchinbird_Clips')"
      ]
    },
    {
      "cell_type": "code",
      "execution_count": null,
      "metadata": {
        "jupyter": {
          "source_hidden": true
        },
        "tags": [],
        "id": "1mL7m31reu2r"
      },
      "outputs": [],
      "source": [
        "#gives set of files into strings,a tensorflow format that we can use tensorflow\n",
        "pos = tf.data.Dataset.list_files(positive+'\\*.wav') #looking for files ending with wav\n",
        "neg = tf.data.Dataset.list_files(negative+'\\*.wav')"
      ]
    },
    {
      "cell_type": "code",
      "execution_count": null,
      "metadata": {
        "id": "oNlRekBseu2r",
        "outputId": "17e0a9b0-299f-491b-fcf7-aedf558685d0"
      },
      "outputs": [
        {
          "data": {
            "text/plain": [
              "b'data\\\\Parsed_Capuchinbird_Clips\\\\XC216012-9.wav'"
            ]
          },
          "execution_count": 19,
          "metadata": {},
          "output_type": "execute_result"
        }
      ],
      "source": [
        "pos.as_numpy_iterator().next() #string file"
      ]
    },
    {
      "cell_type": "markdown",
      "metadata": {
        "id": "GGmUnxuieu2r"
      },
      "source": [
        "## 3.2 Add labels 0-1 to the samples"
      ]
    },
    {
      "cell_type": "code",
      "execution_count": null,
      "metadata": {
        "jupyter": {
          "source_hidden": true
        },
        "tags": [],
        "id": "zGUf0i-jeu2r"
      },
      "outputs": [],
      "source": [
        "#concatenate files of positive path into an tensor of 1's and negatives into an tensor of 0's labels\n",
        "positives = tf.data.Dataset.zip((pos, tf.data.Dataset.from_tensor_slices(tf.ones(len(pos)))))\n",
        "negatives = tf.data.Dataset.zip((neg, tf.data.Dataset.from_tensor_slices(tf.zeros(len(neg)))))\n",
        "data = positives.concatenate(negatives)"
      ]
    },
    {
      "cell_type": "code",
      "execution_count": null,
      "metadata": {
        "id": "-ADt4itgeu2s",
        "outputId": "cfe8adeb-4c61-4348-8924-452c71493fa3"
      },
      "outputs": [
        {
          "data": {
            "text/plain": [
              "(b'data\\\\Parsed_Not_Capuchinbird_Clips\\\\Crickets-chirping-at-night-8.wav', 0.0)"
            ]
          },
          "execution_count": 23,
          "metadata": {},
          "output_type": "execute_result"
        }
      ],
      "source": [
        "positives.as_numpy_iterator().next() #we got 1's for each positive file\n",
        "negatives.as_numpy_iterator().next()"
      ]
    },
    {
      "cell_type": "code",
      "execution_count": null,
      "metadata": {
        "id": "_izolT59eu2s",
        "outputId": "d3ee8a72-d8b2-403a-88bf-e362c495f99b"
      },
      "outputs": [
        {
          "data": {
            "text/plain": [
              "(b'data\\\\Parsed_Capuchinbird_Clips\\\\XC22397-7.wav', 1.0)"
            ]
          },
          "execution_count": 26,
          "metadata": {},
          "output_type": "execute_result"
        }
      ],
      "source": [
        "data.shuffle(1000).as_numpy_iterator().next()"
      ]
    },
    {
      "cell_type": "markdown",
      "metadata": {
        "id": "Nng1Duu1eu2s"
      },
      "source": [
        "# 4. Finding Average Length of a Capuchin Call"
      ]
    },
    {
      "cell_type": "markdown",
      "metadata": {
        "id": "ol_G8LbNeu2t"
      },
      "source": [
        "## 4.1 Calculate Wave Cycle Length"
      ]
    },
    {
      "cell_type": "code",
      "execution_count": null,
      "metadata": {
        "jupyter": {
          "source_hidden": true
        },
        "tags": [],
        "id": "jXWHhKRAeu2t",
        "outputId": "d769f0f5-4b1b-4ebe-ae59-2e2eeb6b4c6c"
      },
      "outputs": [
        {
          "name": "stdout",
          "output_type": "stream",
          "text": [
            "WARNING:tensorflow:5 out of the last 5 calls to <function pfor.<locals>.f at 0x0000016A22C10A60> triggered tf.function retracing. Tracing is expensive and the excessive number of tracings could be due to (1) creating @tf.function repeatedly in a loop, (2) passing tensors with different shapes, (3) passing Python objects instead of tensors. For (1), please define your @tf.function outside of the loop. For (2), @tf.function has experimental_relax_shapes=True option that relaxes argument shapes that can avoid unnecessary retracing. For (3), please refer to https://www.tensorflow.org/guide/function#controlling_retracing and https://www.tensorflow.org/api_docs/python/tf/function for  more details.\n",
            "WARNING:tensorflow:6 out of the last 6 calls to <function pfor.<locals>.f at 0x0000016A22C10AF0> triggered tf.function retracing. Tracing is expensive and the excessive number of tracings could be due to (1) creating @tf.function repeatedly in a loop, (2) passing tensors with different shapes, (3) passing Python objects instead of tensors. For (1), please define your @tf.function outside of the loop. For (2), @tf.function has experimental_relax_shapes=True option that relaxes argument shapes that can avoid unnecessary retracing. For (3), please refer to https://www.tensorflow.org/guide/function#controlling_retracing and https://www.tensorflow.org/api_docs/python/tf/function for  more details.\n"
          ]
        }
      ],
      "source": [
        "#we need to see how long is the wave of our capucchin bird by going through each sample\n",
        "#what we are doing is to calculate the average length of each bird call so we can try to get maximum classifications\n",
        "\n",
        "lengths = []\n",
        "\n",
        "#os.listdir lists directories and we are appending the lengths(how long is the bird sound) of each example\n",
        "for file in os.listdir(os.path.join('data', 'Parsed_Capuchinbird_Clips')):\n",
        "    tensor_wave = convert_16khz_single_channel(os.path.join('data', 'Parsed_Capuchinbird_Clips', file))\n",
        "    lengths.append(len(tensor_wave))"
      ]
    },
    {
      "cell_type": "markdown",
      "metadata": {
        "id": "8IQju0LXeu2t"
      },
      "source": [
        "## 4.2 Calculate Mean, Min and Max"
      ]
    },
    {
      "cell_type": "code",
      "execution_count": null,
      "metadata": {
        "jupyter": {
          "source_hidden": true
        },
        "tags": [],
        "id": "K0f_mkMeeu2t",
        "outputId": "ae4e53f8-67c2-47d3-ccce-c33521220331"
      },
      "outputs": [
        {
          "data": {
            "text/plain": [
              "<tf.Tensor: shape=(), dtype=int32, numpy=54156>"
            ]
          },
          "execution_count": 36,
          "metadata": {},
          "output_type": "execute_result"
        }
      ],
      "source": [
        "##on average 54156 time stamps long is the sound, if we divide by 16khz, 3.3 seconds long is avg sound of the bird\n",
        "#we will be using 48000 as it is around the averagr of min and max lengths\n",
        "tf.math.reduce_mean(lengths) "
      ]
    },
    {
      "cell_type": "code",
      "execution_count": null,
      "metadata": {
        "id": "4GrpPOh_eu2t",
        "outputId": "bdccdfaf-dbb3-4547-baac-451440e447c4"
      },
      "outputs": [
        {
          "data": {
            "text/plain": [
              "<tf.Tensor: shape=(), dtype=int32, numpy=32000>"
            ]
          },
          "execution_count": 37,
          "metadata": {},
          "output_type": "execute_result"
        }
      ],
      "source": [
        "tf.math.reduce_min(lengths)"
      ]
    },
    {
      "cell_type": "code",
      "execution_count": null,
      "metadata": {
        "id": "EZnE71yTeu2t",
        "outputId": "f51763ef-0df5-4987-8ceb-91e3dc236327"
      },
      "outputs": [
        {
          "data": {
            "text/plain": [
              "<tf.Tensor: shape=(), dtype=int32, numpy=80000>"
            ]
          },
          "execution_count": 38,
          "metadata": {},
          "output_type": "execute_result"
        }
      ],
      "source": [
        "tf.math.reduce_max(lengths)"
      ]
    },
    {
      "cell_type": "markdown",
      "metadata": {
        "id": "1tMjn4Vqeu2t"
      },
      "source": [
        "# 5. Function to Convert to Spectrogram"
      ]
    },
    {
      "cell_type": "code",
      "execution_count": null,
      "metadata": {
        "jupyter": {
          "source_hidden": true
        },
        "tags": [],
        "id": "02cId1Oieu2u"
      },
      "outputs": [],
      "source": [
        "#load the data and lets make all the sounds less than 3 sec to 3sec by padding them and more than 3 sec \n",
        "def convert_to_spectro(file_path, label): \n",
        "    \n",
        "    wave = convert_16khz_single_channel(file_path)\n",
        "    #we will grab 3 seconds of the file, we too 48000 instead of 52148 average\n",
        "    wave = wave[:48000]\n",
        "    #now we are counting the number of zeros we have to pad to make the wave as 48000 time stamps or 3 sec\n",
        "    zero_padding = tf.zeros([48000] - tf.shape(wave), dtype=tf.float32)\n",
        "    #padding the 0s to make it our average 48000, we can use 52148 as average too\n",
        "    wave = tf.concat([zero_padding, wave],0)\n",
        "    \n",
        "    #tf.signal.stft is short term fourier transform\n",
        "    spectrogram = tf.signal.stft(wave, frame_length=320, frame_step=32)\n",
        "    #making absolute values, removing negatives\n",
        "    spectrogram = tf.abs(spectrogram)\n",
        "    #encapsulate all the arrays and creates channel so that we can process with CNN\n",
        "    spectrogram = tf.expand_dims(spectrogram, axis=2)\n",
        "    return spectrogram, label"
      ]
    },
    {
      "cell_type": "markdown",
      "metadata": {
        "id": "V_tG8S5deu2u"
      },
      "source": [
        "## 5.2 Testing the spectogram function and visualizing the Spectrogram"
      ]
    },
    {
      "cell_type": "code",
      "execution_count": null,
      "metadata": {
        "jupyter": {
          "source_hidden": true
        },
        "tags": [],
        "id": "6MbTnsOveu2u"
      },
      "outputs": [],
      "source": [
        "#look at the positive example spectogram\n",
        "#write negatives instead of positive to watch for negative examples\n",
        "filepath, label = positives.shuffle(buffer_size=10000).as_numpy_iterator().next() \n",
        "spectrogram, label = convert_to_spectro(filepath, label)"
      ]
    },
    {
      "cell_type": "code",
      "execution_count": null,
      "metadata": {
        "jupyter": {
          "source_hidden": true
        },
        "tags": [],
        "id": "WM4Oriebeu2u",
        "outputId": "da24445b-2f32-4d3d-bd67-31cd1175a06f"
      },
      "outputs": [
        {
          "data": {
            "image/png": "[encoded data removed]",
            "text/plain": [
              "<Figure size 1440x2880 with 1 Axes>"
            ]
          },
          "metadata": {
            "needs_background": "light"
          },
          "output_type": "display_data"
        }
      ],
      "source": [
        "plt.figure(figsize=(20,40))\n",
        "plt.imshow(tf.transpose(spectrogram)[0])\n",
        "plt.show()"
      ]
    },
    {
      "cell_type": "markdown",
      "metadata": {
        "id": "vHuF4LlYeu2u"
      },
      "source": [
        "# 6. Create Training and Testing Partitions"
      ]
    },
    {
      "cell_type": "markdown",
      "metadata": {
        "id": "9C8WjXYPeu2v"
      },
      "source": [
        "## 6.1 Create a Tensorflow Data Pipeline"
      ]
    },
    {
      "cell_type": "code",
      "execution_count": null,
      "metadata": {
        "jupyter": {
          "source_hidden": true
        },
        "tags": [],
        "id": "oO2oO5R5eu2v",
        "outputId": "6cdd9ae6-476b-4062-9f09-140aef271b89"
      },
      "outputs": [
        {
          "name": "stdout",
          "output_type": "stream",
          "text": [
            "WARNING:tensorflow:Using a while_loop for converting IO>AudioResample\n"
          ]
        }
      ],
      "source": [
        "#untill now we have writeen functions to display a file into its spectrogram\n",
        "#now data has all the positive and negative files we want to convert it \n",
        "data = data.map(convert_to_spectro)\n",
        "data = data.cache()\n",
        "\n",
        "#shuffles or mixes the images of positive and negatives\n",
        "data = data.shuffle(buffer_size=1000)\n",
        "\n",
        "#batch of 16\n",
        "data = data.batch(16)\n",
        "#prefetch keeps the data for the next batch to process beforehand\n",
        "data = data.prefetch(8)"
      ]
    },
    {
      "cell_type": "markdown",
      "metadata": {
        "id": "F3FU8Wj6eu2v"
      },
      "source": [
        "## 6.2 Split into Training and Testing Partitions"
      ]
    },
    {
      "cell_type": "code",
      "execution_count": null,
      "metadata": {
        "jupyter": {
          "source_hidden": true
        },
        "tags": [],
        "id": "sttw4Zcjeu2v"
      },
      "outputs": [],
      "source": [
        "#taking 36 samples for training, data has 51 samples\n",
        "train = data.take(36)\n",
        "#15 samples for test\n",
        "test = data.skip(36).take(15)"
      ]
    },
    {
      "cell_type": "markdown",
      "metadata": {
        "id": "DVPn_47weu2v"
      },
      "source": [
        "## 6.3 Test One Batch"
      ]
    },
    {
      "cell_type": "code",
      "execution_count": null,
      "metadata": {
        "jupyter": {
          "source_hidden": true
        },
        "tags": [],
        "id": "s2vxeTgoeu2v"
      },
      "outputs": [],
      "source": [
        "samples, labels = train.as_numpy_iterator().next()"
      ]
    },
    {
      "cell_type": "code",
      "execution_count": null,
      "metadata": {
        "jupyter": {
          "source_hidden": true
        },
        "tags": [],
        "id": "3oruCwcEeu2v",
        "outputId": "c1acc9aa-fea7-4a57-bed0-80a756b1cb29"
      },
      "outputs": [
        {
          "data": {
            "text/plain": [
              "(16, 1491, 257, 1)"
            ]
          },
          "execution_count": 63,
          "metadata": {},
          "output_type": "execute_result"
        }
      ],
      "source": [
        "samples.shape"
      ]
    },
    {
      "cell_type": "markdown",
      "metadata": {
        "id": "vUBvMTPfeu2v"
      },
      "source": [
        "# 7. Build Deep Learning Model"
      ]
    },
    {
      "cell_type": "markdown",
      "metadata": {
        "id": "XNo8P4iEeu2v"
      },
      "source": [
        "## 7.1 Load Tensorflow Dependencies"
      ]
    },
    {
      "cell_type": "code",
      "execution_count": null,
      "metadata": {
        "jupyter": {
          "source_hidden": true
        },
        "tags": [],
        "id": "mNWxSFXyeu2v"
      },
      "outputs": [],
      "source": [
        "from tensorflow.keras.models import Sequential\n",
        "from tensorflow.keras.layers import Conv2D, Dense, Flatten"
      ]
    },
    {
      "cell_type": "markdown",
      "metadata": {
        "id": "OYYdLvwxeu2w"
      },
      "source": [
        "## 7.2 Build Sequential Model, Compile and View Summary"
      ]
    },
    {
      "cell_type": "code",
      "execution_count": null,
      "metadata": {
        "jupyter": {
          "source_hidden": true
        },
        "tags": [],
        "id": "uJUV7inHeu2w"
      },
      "outputs": [],
      "source": [
        "\n",
        "\n",
        "\n",
        "model = tf.keras.models.Sequential([\n",
        "     tf.keras.layers.Conv2D(16, (3, 3), activation='relu', input_shape=(1491, 257, 1)),\n",
        "     tf.keras.layers.Conv2D(16, (3, 3), activation='relu'),\n",
        "     tf.keras.layers.MaxPooling2D(2, 2),\n",
        "     tf.keras.layers.Flatten(),\n",
        "     tf.keras.layers.Dense(128, activation='relu'),\n",
        "     tf.keras.layers.Dense(1, activation='sigmoid')\n",
        "    \n",
        "])"
      ]
    },
    {
      "cell_type": "code",
      "execution_count": null,
      "metadata": {
        "jupyter": {
          "source_hidden": true
        },
        "tags": [],
        "id": "mUHCptIUeu2w"
      },
      "outputs": [],
      "source": [
        "model.compile('Adam', loss='BinaryCrossentropy', metrics=[tf.keras.metrics.Recall(),tf.keras.metrics.Precision()])"
      ]
    },
    {
      "cell_type": "code",
      "execution_count": null,
      "metadata": {
        "jupyter": {
          "source_hidden": true
        },
        "tags": [],
        "id": "vk8LJrTqeu2w",
        "outputId": "6c2987f4-248b-4c72-ac72-af482b8a85f9"
      },
      "outputs": [
        {
          "name": "stdout",
          "output_type": "stream",
          "text": [
            "Model: \"sequential_3\"\n",
            "_________________________________________________________________\n",
            " Layer (type)                Output Shape              Param #   \n",
            "=================================================================\n",
            " conv2d_5 (Conv2D)           (None, 1489, 255, 16)     160       \n",
            "                                                                 \n",
            " conv2d_6 (Conv2D)           (None, 1487, 253, 16)     2320      \n",
            "                                                                 \n",
            " max_pooling2d (MaxPooling2D  (None, 743, 126, 16)     0         \n",
            " )                                                               \n",
            "                                                                 \n",
            " flatten_2 (Flatten)         (None, 1497888)           0         \n",
            "                                                                 \n",
            " dense_4 (Dense)             (None, 128)               191729792 \n",
            "                                                                 \n",
            " dense_5 (Dense)             (None, 1)                 129       \n",
            "                                                                 \n",
            "=================================================================\n",
            "Total params: 191,732,401\n",
            "Trainable params: 191,732,401\n",
            "Non-trainable params: 0\n",
            "_________________________________________________________________\n"
          ]
        }
      ],
      "source": [
        "model.summary()"
      ]
    },
    {
      "cell_type": "markdown",
      "metadata": {
        "id": "AWk1gRp8eu2w"
      },
      "source": [
        "## 7.3 Fit Model, View Loss and KPI Plots"
      ]
    },
    {
      "cell_type": "code",
      "execution_count": null,
      "metadata": {
        "jupyter": {
          "source_hidden": true
        },
        "tags": [],
        "id": "BGHlHZDreu2w",
        "outputId": "47c57746-ed66-4eba-ef76-b1e54068240a"
      },
      "outputs": [
        {
          "name": "stdout",
          "output_type": "stream",
          "text": [
            "Epoch 1/4\n",
            "36/36 [==============================] - 262s 7s/step - loss: 1.9397 - recall_1: 0.8158 - precision_1: 0.7848 - val_loss: 0.1845 - val_recall_1: 0.7206 - val_precision_1: 0.9608\n",
            "Epoch 2/4\n",
            "36/36 [==============================] - 210s 6s/step - loss: 0.1179 - recall_1: 0.8543 - precision_1: 0.9847 - val_loss: 0.0520 - val_recall_1: 0.9851 - val_precision_1: 0.9565\n",
            "Epoch 3/4\n",
            "36/36 [==============================] - 183s 5s/step - loss: 0.0231 - recall_1: 0.9870 - precision_1: 0.9870 - val_loss: 0.0039 - val_recall_1: 1.0000 - val_precision_1: 1.0000\n",
            "Epoch 4/4\n",
            "36/36 [==============================] - 178s 5s/step - loss: 0.0038 - recall_1: 0.9936 - precision_1: 1.0000 - val_loss: 0.0044 - val_recall_1: 1.0000 - val_precision_1: 1.0000\n"
          ]
        }
      ],
      "source": [
        "hist = model.fit(train, epochs=4, validation_data=test)"
      ]
    },
    {
      "cell_type": "code",
      "execution_count": null,
      "metadata": {
        "jupyter": {
          "source_hidden": true
        },
        "tags": [],
        "id": "H2-f5dOjeu2w",
        "outputId": "c46a499c-b0c6-4e7e-89b6-bd125e7107a7"
      },
      "outputs": [
        {
          "data": {
            "image/png": "[encoded data removed]",
            "text/plain": [
              "<Figure size 432x288 with 1 Axes>"
            ]
          },
          "metadata": {
            "needs_background": "light"
          },
          "output_type": "display_data"
        }
      ],
      "source": [
        "plt.title('Loss')\n",
        "plt.plot(hist.history['loss'], 'r')\n",
        "plt.plot(hist.history['val_loss'], 'b')\n",
        "plt.show()"
      ]
    },
    {
      "cell_type": "code",
      "execution_count": null,
      "metadata": {
        "jupyter": {
          "source_hidden": true
        },
        "tags": [],
        "id": "jisE_aAVeu2w",
        "outputId": "a180fb6d-e90d-45cb-f4eb-799b76153403"
      },
      "outputs": [
        {
          "data": {
            "image/png": "[encoded data removed]",
            "text/plain": [
              "<Figure size 432x288 with 1 Axes>"
            ]
          },
          "metadata": {
            "needs_background": "light"
          },
          "output_type": "display_data"
        }
      ],
      "source": [
        "plt.title('Precision')\n",
        "plt.plot(hist.history['precision_1'], 'r')\n",
        "plt.plot(hist.history['val_precision_1'], 'b')\n",
        "plt.show()"
      ]
    },
    {
      "cell_type": "code",
      "execution_count": null,
      "metadata": {
        "jupyter": {
          "source_hidden": true
        },
        "tags": [],
        "id": "UZZhd92Qeu2w",
        "outputId": "c7ee872f-4d5b-47c6-9489-44fe92519790"
      },
      "outputs": [
        {
          "data": {
            "image/png": "[encoded data removed]",
            "text/plain": [
              "<Figure size 432x288 with 1 Axes>"
            ]
          },
          "metadata": {
            "needs_background": "light"
          },
          "output_type": "display_data"
        }
      ],
      "source": [
        "plt.title('Recall')\n",
        "plt.plot(hist.history['recall_1'], 'r')\n",
        "plt.plot(hist.history['val_recall_1'], 'b')\n",
        "plt.show()"
      ]
    },
    {
      "cell_type": "markdown",
      "metadata": {
        "id": "szL-eehSeu2x"
      },
      "source": [
        "# 8. Make a Prediction on a Single Clip"
      ]
    },
    {
      "cell_type": "markdown",
      "metadata": {
        "id": "WpkGfQfIeu2x"
      },
      "source": [
        "## 8.1 Get One Batch and Make a Prediction"
      ]
    },
    {
      "cell_type": "code",
      "execution_count": null,
      "metadata": {
        "jupyter": {
          "source_hidden": true
        },
        "tags": [],
        "id": "AsY1bIbBeu2x"
      },
      "outputs": [],
      "source": [
        "X_test_specto, y_test = test.as_numpy_iterator().next()"
      ]
    },
    {
      "cell_type": "code",
      "execution_count": null,
      "metadata": {
        "jupyter": {
          "source_hidden": true
        },
        "tags": [],
        "id": "ZjD586yueu2x"
      },
      "outputs": [],
      "source": [
        "yhat = model.predict(X_test_specto)"
      ]
    },
    {
      "cell_type": "code",
      "execution_count": null,
      "metadata": {
        "id": "gM81Lszoeu2x",
        "outputId": "62b5d81b-3cfe-4646-f50e-47585479e8ff"
      },
      "outputs": [
        {
          "name": "stdout",
          "output_type": "stream",
          "text": [
            "[6.0267150e-03 2.1583082e-16 3.6948919e-04 1.0000000e+00 8.9349860e-06\n",
            " 1.0303456e-18 9.9364667e-22 1.6381427e-18 1.0000000e+00 1.2734480e-05\n",
            " 6.8695843e-03 1.0000000e+00 2.5645704e-16 1.0000000e+00 0.0000000e+00\n",
            " 1.0000000e+00]\n"
          ]
        }
      ],
      "source": [
        "import numpy as np\n",
        "print(np.squeeze(yhat))"
      ]
    },
    {
      "cell_type": "markdown",
      "metadata": {
        "id": "AMrsnmx3eu2y"
      },
      "source": [
        "## 8.2 Convert Logits to Classes "
      ]
    },
    {
      "cell_type": "code",
      "execution_count": null,
      "metadata": {
        "jupyter": {
          "source_hidden": true
        },
        "tags": [],
        "id": "j5aek3i9eu2y",
        "outputId": "336ffd2f-1507-4a19-8054-893eadea4547"
      },
      "outputs": [
        {
          "name": "stdout",
          "output_type": "stream",
          "text": [
            "[0, 0, 0, 1, 0, 0, 0, 0, 1, 0, 0, 1, 0, 1, 0, 1] [[[[4.33784677e-04]\n",
            "   [3.49517423e-03]\n",
            "   [6.67650858e-03]\n",
            "   ...\n",
            "   [1.12459747e-04]\n",
            "   [5.98151528e-05]\n",
            "   [6.01226930e-05]]\n",
            "\n",
            "  [[1.06090913e-03]\n",
            "   [2.70797382e-03]\n",
            "   [5.93086192e-03]\n",
            "   ...\n",
            "   [7.91475031e-05]\n",
            "   [1.25544393e-04]\n",
            "   [1.23645179e-04]]\n",
            "\n",
            "  [[1.50872651e-03]\n",
            "   [2.46674730e-03]\n",
            "   [4.95533831e-03]\n",
            "   ...\n",
            "   [1.03266953e-04]\n",
            "   [2.44736933e-04]\n",
            "   [3.25445784e-04]]\n",
            "\n",
            "  ...\n",
            "\n",
            "  [[1.63891469e-03]\n",
            "   [1.29160273e-03]\n",
            "   [2.38251290e-04]\n",
            "   ...\n",
            "   [1.79752591e-04]\n",
            "   [3.28597525e-05]\n",
            "   [6.99271914e-05]]\n",
            "\n",
            "  [[2.05327244e-03]\n",
            "   [1.58483675e-03]\n",
            "   [9.84113896e-04]\n",
            "   ...\n",
            "   [1.37255352e-04]\n",
            "   [6.55299664e-05]\n",
            "   [3.20948893e-05]]\n",
            "\n",
            "  [[2.34991591e-03]\n",
            "   [1.94939494e-03]\n",
            "   [1.38421147e-03]\n",
            "   ...\n",
            "   [1.80887524e-04]\n",
            "   [5.72294121e-05]\n",
            "   [6.60516089e-05]]]\n",
            "\n",
            "\n",
            " [[[3.16597521e-04]\n",
            "   [2.06384953e-04]\n",
            "   [1.95691653e-04]\n",
            "   ...\n",
            "   [2.84175456e-07]\n",
            "   [1.51819700e-06]\n",
            "   [1.80210918e-06]]\n",
            "\n",
            "  [[1.10374996e-04]\n",
            "   [1.05710969e-04]\n",
            "   [1.67133432e-04]\n",
            "   ...\n",
            "   [1.88116258e-06]\n",
            "   [8.83791927e-07]\n",
            "   [4.76138666e-07]]\n",
            "\n",
            "  [[9.06868372e-05]\n",
            "   [1.23054371e-04]\n",
            "   [1.45408034e-04]\n",
            "   ...\n",
            "   [9.69317739e-07]\n",
            "   [1.16603508e-06]\n",
            "   [5.02215698e-07]]\n",
            "\n",
            "  ...\n",
            "\n",
            "  [[9.22239153e-04]\n",
            "   [6.97345939e-04]\n",
            "   [3.42983723e-04]\n",
            "   ...\n",
            "   [1.07805874e-06]\n",
            "   [4.48869713e-07]\n",
            "   [3.70433554e-07]]\n",
            "\n",
            "  [[8.96958169e-04]\n",
            "   [7.08983513e-04]\n",
            "   [2.86387396e-04]\n",
            "   ...\n",
            "   [7.75850197e-07]\n",
            "   [8.45787554e-07]\n",
            "   [8.98726285e-08]]\n",
            "\n",
            "  [[9.13120806e-04]\n",
            "   [6.91648747e-04]\n",
            "   [2.24166535e-04]\n",
            "   ...\n",
            "   [1.10282042e-06]\n",
            "   [1.16695139e-06]\n",
            "   [4.84287739e-07]]]\n",
            "\n",
            "\n",
            " [[[2.39786692e-03]\n",
            "   [2.36551417e-03]\n",
            "   [2.37693265e-03]\n",
            "   ...\n",
            "   [2.09213704e-06]\n",
            "   [2.36255300e-06]\n",
            "   [3.34717333e-06]]\n",
            "\n",
            "  [[7.19167292e-06]\n",
            "   [8.04148385e-06]\n",
            "   [2.18698660e-05]\n",
            "   ...\n",
            "   [4.61526224e-06]\n",
            "   [5.76265347e-06]\n",
            "   [2.15880573e-06]]\n",
            "\n",
            "  [[1.15912408e-05]\n",
            "   [3.34268370e-05]\n",
            "   [4.61878444e-05]\n",
            "   ...\n",
            "   [2.74449144e-06]\n",
            "   [1.97500458e-06]\n",
            "   [1.01514161e-06]]\n",
            "\n",
            "  ...\n",
            "\n",
            "  [[7.21290708e-05]\n",
            "   [9.98718679e-05]\n",
            "   [3.02995486e-05]\n",
            "   ...\n",
            "   [3.26895315e-05]\n",
            "   [1.51360118e-05]\n",
            "   [1.60187483e-07]]\n",
            "\n",
            "  [[1.48713589e-05]\n",
            "   [3.44202526e-05]\n",
            "   [6.67297936e-05]\n",
            "   ...\n",
            "   [2.17766828e-05]\n",
            "   [1.39799586e-05]\n",
            "   [1.43311918e-05]]\n",
            "\n",
            "  [[3.91844660e-05]\n",
            "   [4.62683311e-05]\n",
            "   [3.76200078e-05]\n",
            "   ...\n",
            "   [3.25526344e-05]\n",
            "   [9.24887536e-06]\n",
            "   [9.77888703e-07]]]\n",
            "\n",
            "\n",
            " ...\n",
            "\n",
            "\n",
            " [[[1.68189444e-02]\n",
            "   [8.46991967e-03]\n",
            "   [5.26053719e-02]\n",
            "   ...\n",
            "   [7.63000862e-05]\n",
            "   [4.42927485e-05]\n",
            "   [2.49333680e-05]]\n",
            "\n",
            "  [[8.89535621e-03]\n",
            "   [2.24458426e-02]\n",
            "   [4.86469977e-02]\n",
            "   ...\n",
            "   [9.01217209e-05]\n",
            "   [1.52036455e-05]\n",
            "   [5.13717532e-06]]\n",
            "\n",
            "  [[2.81960219e-02]\n",
            "   [1.69028863e-02]\n",
            "   [2.96915937e-02]\n",
            "   ...\n",
            "   [8.37244515e-05]\n",
            "   [2.70214077e-05]\n",
            "   [6.86198473e-06]]\n",
            "\n",
            "  ...\n",
            "\n",
            "  [[4.29789126e-02]\n",
            "   [6.05746582e-02]\n",
            "   [8.53651240e-02]\n",
            "   ...\n",
            "   [3.63330291e-05]\n",
            "   [6.97485011e-05]\n",
            "   [9.26852226e-06]]\n",
            "\n",
            "  [[4.31899577e-02]\n",
            "   [3.40089053e-02]\n",
            "   [7.95591027e-02]\n",
            "   ...\n",
            "   [9.26563225e-05]\n",
            "   [4.44315701e-05]\n",
            "   [1.48564577e-05]]\n",
            "\n",
            "  [[2.65933424e-02]\n",
            "   [1.38206109e-02]\n",
            "   [6.45891428e-02]\n",
            "   ...\n",
            "   [1.09197914e-04]\n",
            "   [4.76698006e-05]\n",
            "   [1.13099813e-05]]]\n",
            "\n",
            "\n",
            " [[[1.43246204e-02]\n",
            "   [1.49958685e-01]\n",
            "   [1.96078315e-01]\n",
            "   ...\n",
            "   [2.82975496e-04]\n",
            "   [2.14375017e-04]\n",
            "   [1.42797828e-04]]\n",
            "\n",
            "  [[8.32993910e-02]\n",
            "   [1.34233564e-01]\n",
            "   [1.51604563e-01]\n",
            "   ...\n",
            "   [1.90459148e-04]\n",
            "   [1.60915879e-04]\n",
            "   [1.19067729e-04]]\n",
            "\n",
            "  [[1.22478724e-01]\n",
            "   [1.32267490e-01]\n",
            "   [1.24905072e-01]\n",
            "   ...\n",
            "   [1.29046617e-04]\n",
            "   [8.30616555e-05]\n",
            "   [5.87701797e-05]]\n",
            "\n",
            "  ...\n",
            "\n",
            "  [[1.45586056e-03]\n",
            "   [2.82800989e-03]\n",
            "   [3.77268065e-03]\n",
            "   ...\n",
            "   [1.95351134e-07]\n",
            "   [1.88591457e-07]\n",
            "   [2.98838131e-07]]\n",
            "\n",
            "  [[3.11256561e-04]\n",
            "   [2.49238359e-03]\n",
            "   [3.62893799e-03]\n",
            "   ...\n",
            "   [1.58248000e-07]\n",
            "   [1.40304223e-07]\n",
            "   [2.51020538e-08]]\n",
            "\n",
            "  [[1.99053623e-03]\n",
            "   [2.66124611e-03]\n",
            "   [2.90190219e-03]\n",
            "   ...\n",
            "   [2.53490015e-07]\n",
            "   [1.50376437e-07]\n",
            "   [8.09086487e-08]]]\n",
            "\n",
            "\n",
            " [[[5.87832183e-03]\n",
            "   [7.23822881e-03]\n",
            "   [1.00889225e-02]\n",
            "   ...\n",
            "   [1.04762628e-04]\n",
            "   [3.46154266e-05]\n",
            "   [2.25752592e-05]]\n",
            "\n",
            "  [[1.50788575e-04]\n",
            "   [2.18030950e-03]\n",
            "   [5.81789017e-03]\n",
            "   ...\n",
            "   [1.28384461e-04]\n",
            "   [4.09466120e-05]\n",
            "   [4.95463610e-07]]\n",
            "\n",
            "  [[4.66201454e-04]\n",
            "   [1.95343536e-03]\n",
            "   [5.39945299e-03]\n",
            "   ...\n",
            "   [1.36565955e-04]\n",
            "   [5.86029855e-05]\n",
            "   [2.03065574e-05]]\n",
            "\n",
            "  ...\n",
            "\n",
            "  [[8.71483237e-04]\n",
            "   [1.54961261e-03]\n",
            "   [1.55132997e-03]\n",
            "   ...\n",
            "   [1.86732083e-04]\n",
            "   [8.90563679e-05]\n",
            "   [3.58782709e-05]]\n",
            "\n",
            "  [[9.52452421e-04]\n",
            "   [6.66908454e-04]\n",
            "   [8.79217929e-04]\n",
            "   ...\n",
            "   [1.95235218e-04]\n",
            "   [8.01190035e-05]\n",
            "   [1.79857016e-05]]\n",
            "\n",
            "  [[1.46301836e-03]\n",
            "   [5.50992030e-04]\n",
            "   [1.53416826e-03]\n",
            "   ...\n",
            "   [1.71219246e-04]\n",
            "   [8.42640438e-05]\n",
            "   [1.90213323e-05]]]]\n"
          ]
        }
      ],
      "source": [
        "yhat = [1 if prediction > 0.5 else 0 for prediction in yhat]\n",
        "print(yhat,X_test)"
      ]
    },
    {
      "cell_type": "markdown",
      "metadata": {
        "tags": [],
        "id": "VyRDWQjEeu2y"
      },
      "source": [
        "# 9. Build Forest Parsing Functions"
      ]
    },
    {
      "cell_type": "markdown",
      "metadata": {
        "id": "_fwFrCt7eu2y"
      },
      "source": [
        "## 9.1 Load up MP3s"
      ]
    },
    {
      "cell_type": "code",
      "execution_count": null,
      "metadata": {
        "jupyter": {
          "source_hidden": true
        },
        "id": "yfiTHx0beu2y"
      },
      "outputs": [],
      "source": [
        "def loading_mp3_16khz_single(filename):\n",
        "#   Loading a WAV file, converting it to a float tensor, resampling to 16 kHz single-channel audio. \n",
        "    res = tfio.audio.AudioIOTensor(filename)\n",
        "    # Convert to tensor and combine channels \n",
        "    tensor = res.to_tensor()\n",
        "    tensor = tf.math.reduce_sum(tensor, axis=1) / 2 \n",
        "    # Extract sample rate and cast\n",
        "    sample_rate = res.rate\n",
        "    sample_rate = tf.cast(sample_rate, dtype=tf.int64)\n",
        "    # Resampling to 16 kHz\n",
        "    wav = tfio.audio.resample(tensor, rate_in=sample_rate, rate_out=16000)\n",
        "    return wav"
      ]
    },
    {
      "cell_type": "code",
      "execution_count": null,
      "metadata": {
        "jupyter": {
          "source_hidden": true
        },
        "id": "mZeMf_LIeu2y"
      },
      "outputs": [],
      "source": [
        "#telling the path on main data \n",
        "mp3_file = os.path.join('data', 'Forest Recordings', 'recording_00.mp3')"
      ]
    },
    {
      "cell_type": "code",
      "execution_count": null,
      "metadata": {
        "jupyter": {
          "source_hidden": true
        },
        "tags": [],
        "id": "OcreOStqeu2y"
      },
      "outputs": [],
      "source": [
        "#converted to 16khz\n",
        "wav = loading_mp3_16khz_single(mp3_file)"
      ]
    },
    {
      "cell_type": "code",
      "execution_count": null,
      "metadata": {
        "jupyter": {
          "source_hidden": true
        },
        "id": "Fvnz-GVueu2y"
      },
      "outputs": [],
      "source": [
        "audio_slices = tf.keras.utils.timeseries_dataset_from_array(wav, wav, sequence_length=48000, sequence_stride=48000, batch_size=1)"
      ]
    },
    {
      "cell_type": "code",
      "execution_count": null,
      "metadata": {
        "jupyter": {
          "source_hidden": true
        },
        "id": "1VEtDoGqeu2y"
      },
      "outputs": [],
      "source": [
        "samples, index = audio_slices.as_numpy_iterator().next()"
      ]
    },
    {
      "cell_type": "markdown",
      "metadata": {
        "id": "mzy0ksv-eu2z"
      },
      "source": [
        "## 9.2 Build Function to Convert Clips into Windowed Spectrograms"
      ]
    },
    {
      "cell_type": "code",
      "execution_count": null,
      "metadata": {
        "jupyter": {
          "source_hidden": true
        },
        "id": "0Ajz7ahyeu23"
      },
      "outputs": [],
      "source": [
        "def preprocess_mp3(sample, index):\n",
        "    sample = sample[0]\n",
        "    zero_padding = tf.zeros([48000] - tf.shape(sample), dtype=tf.float32)\n",
        "    wav = tf.concat([zero_padding, sample],0)\n",
        "    spectrogram = tf.signal.stft(wav, frame_length=320, frame_step=32)\n",
        "    spectrogram = tf.abs(spectrogram)\n",
        "    spectrogram = tf.expand_dims(spectrogram, axis=2)\n",
        "    return spectrogram"
      ]
    },
    {
      "cell_type": "markdown",
      "metadata": {
        "id": "B5m0ma-leu23"
      },
      "source": [
        "## 9.3 Convert Longer Clips into Windows and Make Predictions"
      ]
    },
    {
      "cell_type": "code",
      "execution_count": null,
      "metadata": {
        "jupyter": {
          "source_hidden": true
        },
        "id": "kHUxrvcXeu23"
      },
      "outputs": [],
      "source": [
        "audio_slices = tf.keras.utils.timeseries_dataset_from_array(wav, wav, sequence_length=16000, sequence_stride=16000, batch_size=1)\n",
        "audio_slices = audio_slices.map(preprocess_mp3)\n",
        "audio_slices = audio_slices.batch(64)"
      ]
    },
    {
      "cell_type": "code",
      "execution_count": null,
      "metadata": {
        "jupyter": {
          "source_hidden": true
        },
        "id": "pMnyxFDOeu24"
      },
      "outputs": [],
      "source": [
        "yhat = model.predict(audio_slices)\n",
        "yhat = [1 if prediction > 0.5 else 0 for prediction in yhat]"
      ]
    },
    {
      "cell_type": "markdown",
      "metadata": {
        "id": "G8ZoQR-Aeu24"
      },
      "source": [
        "## 9.4 Group Consecutive Detections"
      ]
    },
    {
      "cell_type": "code",
      "execution_count": null,
      "metadata": {
        "jupyter": {
          "source_hidden": true
        },
        "id": "AGwHQ3R_eu24"
      },
      "outputs": [],
      "source": [
        "from itertools import groupby"
      ]
    },
    {
      "cell_type": "code",
      "execution_count": null,
      "metadata": {
        "jupyter": {
          "source_hidden": true
        },
        "id": "zKYmsFUueu24"
      },
      "outputs": [],
      "source": [
        "yhat = [key for key, group in groupby(yhat)]\n",
        "calls = tf.math.reduce_sum(yhat).numpy()"
      ]
    },
    {
      "cell_type": "code",
      "execution_count": null,
      "metadata": {
        "jupyter": {
          "source_hidden": true
        },
        "id": "afFT4fkMeu24"
      },
      "outputs": [],
      "source": [
        "calls"
      ]
    },
    {
      "cell_type": "markdown",
      "metadata": {
        "id": "VsWqrXjceu24"
      },
      "source": [
        "# 10. Make Predictions"
      ]
    },
    {
      "cell_type": "markdown",
      "metadata": {
        "id": "gpTe2ZNJeu24"
      },
      "source": [
        "## 10.1 Loop over all recordings and make predictions"
      ]
    },
    {
      "cell_type": "code",
      "execution_count": null,
      "metadata": {
        "jupyter": {
          "source_hidden": true
        },
        "id": "NKE1OiDbeu24"
      },
      "outputs": [],
      "source": [
        "results = {}\n",
        "for file in os.listdir(os.path.join('data', 'Forest Recordings')):\n",
        "    FILEPATH = os.path.join('data','Forest Recordings', file)\n",
        "    \n",
        "    wav = load_mp3_16k_mono(FILEPATH)\n",
        "    audio_slices = tf.keras.utils.timeseries_dataset_from_array(wav, wav, sequence_length=48000, sequence_stride=48000, batch_size=1)\n",
        "    audio_slices = audio_slices.map(preprocess_mp3)\n",
        "    audio_slices = audio_slices.batch(64)\n",
        "    \n",
        "    yhat = model.predict(audio_slices)\n",
        "    \n",
        "    results[file] = yhat"
      ]
    },
    {
      "cell_type": "code",
      "execution_count": null,
      "metadata": {
        "jupyter": {
          "source_hidden": true
        },
        "scrolled": true,
        "tags": [],
        "id": "bmtmsVoreu24"
      },
      "outputs": [],
      "source": [
        "results"
      ]
    },
    {
      "cell_type": "markdown",
      "metadata": {
        "id": "iMk8Cj9Eeu24"
      },
      "source": [
        "## 10.2 Convert Predictions into Classes"
      ]
    },
    {
      "cell_type": "code",
      "execution_count": null,
      "metadata": {
        "jupyter": {
          "source_hidden": true
        },
        "scrolled": true,
        "tags": [],
        "id": "IAxdLHMleu24"
      },
      "outputs": [],
      "source": [
        "class_preds = {}\n",
        "for file, logits in results.items():\n",
        "    class_preds[file] = [1 if prediction > 0.99 else 0 for prediction in logits]\n",
        "class_preds"
      ]
    },
    {
      "cell_type": "markdown",
      "metadata": {
        "id": "Tvk65yKIeu25"
      },
      "source": [
        "## 10.3 Group Consecutive Detections"
      ]
    },
    {
      "cell_type": "code",
      "execution_count": null,
      "metadata": {
        "jupyter": {
          "source_hidden": true
        },
        "scrolled": true,
        "tags": [],
        "id": "ndiJ6a5seu25"
      },
      "outputs": [],
      "source": [
        "postprocessed = {}\n",
        "for file, scores in class_preds.items():\n",
        "    postprocessed[file] = tf.math.reduce_sum([key for key, group in groupby(scores)]).numpy()\n",
        "postprocessed"
      ]
    },
    {
      "cell_type": "markdown",
      "metadata": {
        "id": "rDAonZRmeu25"
      },
      "source": [
        "# 11. Export Results"
      ]
    },
    {
      "cell_type": "code",
      "execution_count": null,
      "metadata": {
        "jupyter": {
          "source_hidden": true
        },
        "id": "i2fiAI2deu25"
      },
      "outputs": [],
      "source": [
        "import csv"
      ]
    },
    {
      "cell_type": "code",
      "execution_count": null,
      "metadata": {
        "jupyter": {
          "source_hidden": true
        },
        "tags": [],
        "id": "nzlKqepseu25"
      },
      "outputs": [],
      "source": [
        "with open('results.csv', 'w', newline='') as f:\n",
        "    writer = csv.writer(f, delimiter=',')\n",
        "    writer.writerow(['recording', 'capuchin_calls'])\n",
        "    for key, value in postprocessed.items():\n",
        "        writer.writerow([key, value])"
      ]
    }
  ],
  "metadata": {
    "kernelspec": {
      "display_name": "Python 3 (ipykernel)",
      "language": "python",
      "name": "python3"
    },
    "language_info": {
      "codemirror_mode": {
        "name": "ipython",
        "version": 3
      },
      "file_extension": ".py",
      "mimetype": "text/x-python",
      "name": "python",
      "nbconvert_exporter": "python",
      "pygments_lexer": "ipython3",
      "version": "3.10.4"
    },
    "colab": {
      "name": "AudioClassification.ipynb",
      "provenance": [],
      "collapsed_sections": [
        "DVPn_47weu2v",
        "XNo8P4iEeu2v",
        "OYYdLvwxeu2w",
        "AWk1gRp8eu2w",
        "WpkGfQfIeu2x",
        "AMrsnmx3eu2y",
        "_fwFrCt7eu2y",
        "mzy0ksv-eu2z",
        "B5m0ma-leu23",
        "G8ZoQR-Aeu24",
        "gpTe2ZNJeu24",
        "iMk8Cj9Eeu24",
        "Tvk65yKIeu25"
      ]
    }
  },
  "nbformat": 4,
  "nbformat_minor": 0
}